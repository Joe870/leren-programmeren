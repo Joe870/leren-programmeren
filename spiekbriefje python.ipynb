{
 "cells": [
  {
   "cell_type": "code",
   "execution_count": null,
   "metadata": {},
   "outputs": [],
   "source": [
    "# python kent geen % teken. Je moet eerst 1% uitrekenen door te delen met 100.\n",
    "# een tekst in python heet een string. \n",
    "# je kunt teksten samenvoegen in een string-expression.\n",
    "# strings samenvoegen met een + heet een concatenation-operator\n",
    "# een naam die is opgeslagen voor berekingen heet een variabele die kan je koppelen met een = aan een value. Bij elkaar heet dit een assignment.\n",
    "# een geheel getal is een getal zonder breuk en bevat geen punt. Kortweg int. \n",
    "# een reëel getal is een breuk of bevat een punt dit heet een float.\n",
    "# een value waar het antwoord ja of nee is heet een boolean\n"
   ]
  },
  {
   "cell_type": "code",
   "execution_count": null,
   "metadata": {},
   "outputs": [],
   "source": [
    "# commentaar\n",
    "# print ('woord')\n",
    "# string is woord of zin\n",
    "# variabelen is een cijfer\n",
    "# 6 is een integer \n",
    "# float is getal met een komma \n",
    "# print tussen haakjes en hekjes \n",
    "# zin printen tussen haakjes \n",
    "# type casting is het veranderen van de variabele\n",
    "# print(f\"{aantal} {omschrijving} {stuksprijs}\")\n",
    "# print(str(aantal)+ ' ' + omschrijving + ' ' + str(stukprijs))\n",
    "# '' met een woord ertussen kopieert tie "
   ]
  },
  {
   "cell_type": "code",
   "execution_count": null,
   "metadata": {},
   "outputs": [],
   "source": [
    "budget - aantalbanden x (bandprijs+bandarbeid)\n",
    "in python 88 - 2 * (27,98+15)\n"
   ]
  },
  {
   "cell_type": "code",
   "execution_count": null,
   "metadata": {},
   "outputs": [],
   "source": [
    "# data types\n",
    "# text type = str \n",
    "# numeric types = int, float, complex\n",
    "# sequence types = list, tuple, range\n",
    "# mapping type = dict\n",
    "# set types = set, frozenset\n",
    "# boolean type = bool\n",
    "# binary types = bytes bytearray, memoryview\n",
    "# none type = NoneType \n",
    "# je kan de data type van ieder object krijgen door type() te typen. "
   ]
  },
  {
   "cell_type": "code",
   "execution_count": null,
   "metadata": {},
   "outputs": [],
   "source": [
    "Prijs = 2,50 \n",
    "BTW = 2,50 / 100 * 9 \n",
    "BTW = 2,50 / 100 * 21 \n",
    "print(prijs+BTW)\n"
   ]
  },
  {
   "cell_type": "code",
   "execution_count": null,
   "metadata": {},
   "outputs": [],
   "source": [
    "aantal = 3\n",
    "omschrijving = 'croky naturel 300gr'\n",
    "stuksprijs = 0.89 \n",
    "print('Joëlle')\n",
    "print(aantal * stuksprijs)\n",
    "print(str(aantal)+ ' ' + omschrijving)\n",
    "print(f\"{aantal} {omschrijving}\")prijs\n",
    "print(f\"{aantal} {omschrijving} {stuksprijs}\")\n",
    "print(str(aantal) + ' ' + omschrijving + ' ' + str(stukprijs))\n",
    "\n"
   ]
  }
 ],
 "metadata": {
  "kernelspec": {
   "display_name": "Python 3.10.7 64-bit",
   "language": "python",
   "name": "python3"
  },
  "language_info": {
   "name": "python",
   "version": "3.10.7"
  },
  "orig_nbformat": 4,
  "vscode": {
   "interpreter": {
    "hash": "997910d508f0893d0dea8704f09f63e44fe0b217d66401d81af70229b3dfce4e"
   }
  }
 },
 "nbformat": 4,
 "nbformat_minor": 2
}
